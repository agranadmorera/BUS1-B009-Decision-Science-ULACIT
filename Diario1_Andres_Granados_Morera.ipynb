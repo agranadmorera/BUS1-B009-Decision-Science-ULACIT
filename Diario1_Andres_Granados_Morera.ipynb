{
  "nbformat": 4,
  "nbformat_minor": 0,
  "metadata": {
    "colab": {
      "name": "Diario1-Andres-Granados-Morera.ipynb",
      "provenance": [],
      "authorship_tag": "ABX9TyNWe3TAcW/DOs4V9Oh/f5pe",
      "include_colab_link": true
    },
    "kernelspec": {
      "name": "python3",
      "display_name": "Python 3"
    },
    "language_info": {
      "name": "python"
    }
  },
  "cells": [
    {
      "cell_type": "markdown",
      "metadata": {
        "id": "view-in-github",
        "colab_type": "text"
      },
      "source": [
        "<a href=\"https://colab.research.google.com/github/agranadmorera/BUS1-B009-Decision-Science-ULACIT/blob/main/Diario1_Andres_Granados_Morera.ipynb\" target=\"_parent\"><img src=\"https://colab.research.google.com/assets/colab-badge.svg\" alt=\"Open In Colab\"/></a>"
      ]
    },
    {
      "cell_type": "code",
      "execution_count": 1,
      "metadata": {
        "colab": {
          "base_uri": "https://localhost:8080/"
        },
        "id": "bfXmWxGbxE0_",
        "outputId": "e1aae03b-0ed0-4402-89d0-896f3876913a"
      },
      "outputs": [
        {
          "output_type": "stream",
          "name": "stdout",
          "text": [
            "Hello World!\n"
          ]
        }
      ],
      "source": [
        "print(\"Hello World!\")"
      ]
    }
  ]
}