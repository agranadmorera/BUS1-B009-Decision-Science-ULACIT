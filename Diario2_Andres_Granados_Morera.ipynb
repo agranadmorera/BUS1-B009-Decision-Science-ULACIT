{
  "nbformat": 4,
  "nbformat_minor": 0,
  "metadata": {
    "colab": {
      "name": "Diario2-Andres-Granados-Morera.ipynb",
      "provenance": [],
      "collapsed_sections": []
    },
    "kernelspec": {
      "name": "python3",
      "display_name": "Python 3"
    },
    "language_info": {
      "name": "python"
    }
  },
  "cells": [
    {
      "cell_type": "code",
      "source": [
        "import math"
      ],
      "metadata": {
        "id": "YAeyEFMsTZwg"
      },
      "execution_count": null,
      "outputs": []
    },
    {
      "cell_type": "code",
      "source": [
        "import math as mt\n",
        "r = mt.pi + 8 ** 4\n",
        "print(r)"
      ],
      "metadata": {
        "colab": {
          "base_uri": "https://localhost:8080/"
        },
        "id": "lt17FapwGBb7",
        "outputId": "0cf867f4-9106-4cd9-f9cd-d24ab86c402e"
      },
      "execution_count": null,
      "outputs": [
        {
          "output_type": "stream",
          "name": "stdout",
          "text": [
            "4099.14159265359\n"
          ]
        }
      ]
    },
    {
      "cell_type": "code",
      "source": [
        "r = 1342 - 1677 * (9/7) - 6\n",
        "result = abs(r)\n",
        "print(r)"
      ],
      "metadata": {
        "colab": {
          "base_uri": "https://localhost:8080/"
        },
        "id": "LvEOVlmqJz6M",
        "outputId": "628c3841-2cc6-4187-d15b-60f879a39eec"
      },
      "execution_count": null,
      "outputs": [
        {
          "output_type": "stream",
          "name": "stdout",
          "text": [
            "-820.1428571428573\n"
          ]
        }
      ]
    },
    {
      "cell_type": "code",
      "source": [
        "r = mt.factorial(9)\n",
        "print(r)"
      ],
      "metadata": {
        "colab": {
          "base_uri": "https://localhost:8080/"
        },
        "id": "ZAsoxPN-LQ_M",
        "outputId": "ecbd49b3-a4cd-4de1-dc9f-87a3642c7a83"
      },
      "execution_count": null,
      "outputs": [
        {
          "output_type": "stream",
          "name": "stdout",
          "text": [
            "362880\n"
          ]
        }
      ]
    },
    {
      "cell_type": "code",
      "source": [
        "r = mt.log(7, 10)\n",
        "print(r)"
      ],
      "metadata": {
        "colab": {
          "base_uri": "https://localhost:8080/"
        },
        "id": "jCYoRCz4Mwk6",
        "outputId": "1c03de7f-efc0-4899-fc80-5d5c2b1c0a10"
      },
      "execution_count": null,
      "outputs": [
        {
          "output_type": "stream",
          "name": "stdout",
          "text": [
            "0.8450980400142567\n"
          ]
        }
      ]
    },
    {
      "cell_type": "code",
      "source": [
        "mt.e"
      ],
      "metadata": {
        "colab": {
          "base_uri": "https://localhost:8080/"
        },
        "id": "RIc18YbCNaB-",
        "outputId": "cdaa3a4f-97c8-4333-c046-a85c9b9696b2"
      },
      "execution_count": null,
      "outputs": [
        {
          "output_type": "execute_result",
          "data": {
            "text/plain": [
              "2.718281828459045"
            ]
          },
          "metadata": {},
          "execution_count": 18
        }
      ]
    },
    {
      "cell_type": "code",
      "source": [
        "r = mt.e ** 0.555457\n",
        "print(r)"
      ],
      "metadata": {
        "colab": {
          "base_uri": "https://localhost:8080/"
        },
        "id": "iifdX3KDNb3k",
        "outputId": "268bf5f9-56e6-44fb-81ad-cadc71424794"
      },
      "execution_count": null,
      "outputs": [
        {
          "output_type": "stream",
          "name": "stdout",
          "text": [
            "1.7427372337331462\n"
          ]
        }
      ]
    },
    {
      "cell_type": "code",
      "source": [
        "y = mt.pi\n",
        "print(y)\n",
        "\n",
        "z = 41\n",
        "print(z)\n",
        "\n",
        "from math import modf\n",
        "\n",
        "x = (2 + y) / (7 + 2*(z ** 2))\n",
        "print(x)\n"
      ],
      "metadata": {
        "colab": {
          "base_uri": "https://localhost:8080/"
        },
        "id": "vJAx2qVUPRTz",
        "outputId": "3723dbd3-f73f-467f-f6e4-28a13c7c8ac4"
      },
      "execution_count": null,
      "outputs": [
        {
          "output_type": "stream",
          "name": "stdout",
          "text": [
            "3.141592653589793\n",
            "41\n",
            "0.001526148012344848\n"
          ]
        }
      ]
    },
    {
      "cell_type": "code",
      "source": [
        "x = [2, - 6, 27, - 8, - 9, - 21, 9, 5, 562, mt.pi]\n",
        "print(x)"
      ],
      "metadata": {
        "colab": {
          "base_uri": "https://localhost:8080/"
        },
        "id": "eqMDIIYsbPvS",
        "outputId": "2e23bb25-1fd1-4af1-bdd3-71aee66e3204"
      },
      "execution_count": null,
      "outputs": [
        {
          "output_type": "stream",
          "name": "stdout",
          "text": [
            "[2, -6, 27, -8, -9, -21, 9, 5, 562, 3.141592653589793]\n"
          ]
        }
      ]
    },
    {
      "cell_type": "code",
      "source": [
        "y = [8, 9, - 31, 18, - 5, - 18, 9, - 22, 0, 9]\n",
        "print(y)"
      ],
      "metadata": {
        "colab": {
          "base_uri": "https://localhost:8080/"
        },
        "id": "XiYhnrBNdGnc",
        "outputId": "b95f3f08-8b67-4b36-df6e-a7bff789a78d"
      },
      "execution_count": null,
      "outputs": [
        {
          "output_type": "stream",
          "name": "stdout",
          "text": [
            "[8, 9, -31, 18, -5, -18, 9, -22, 0, 9]\n"
          ]
        }
      ]
    },
    {
      "cell_type": "code",
      "source": [
        "import pandas as pd\n",
        "import numpy as np\n",
        "import statistics as st\n",
        "\n",
        "st.mean(x)"
      ],
      "metadata": {
        "colab": {
          "base_uri": "https://localhost:8080/"
        },
        "id": "QV3BuqUafo89",
        "outputId": "bed9ff33-8ea7-4ad5-a3a5-247ad8f98ec1"
      },
      "execution_count": null,
      "outputs": [
        {
          "output_type": "execute_result",
          "data": {
            "text/plain": [
              "56.41415926535898"
            ]
          },
          "metadata": {},
          "execution_count": 102
        }
      ]
    },
    {
      "cell_type": "code",
      "source": [
        "st.variance(x)"
      ],
      "metadata": {
        "colab": {
          "base_uri": "https://localhost:8080/"
        },
        "id": "FfmtWy9whnTZ",
        "outputId": "8a5f9d02-c79d-4e52-b5a3-b2ac0d292fe2"
      },
      "execution_count": null,
      "outputs": [
        {
          "output_type": "execute_result",
          "data": {
            "text/plain": [
              "31721.032883136468"
            ]
          },
          "metadata": {},
          "execution_count": 96
        }
      ]
    },
    {
      "cell_type": "code",
      "source": [
        "st.stdev(x)"
      ],
      "metadata": {
        "colab": {
          "base_uri": "https://localhost:8080/"
        },
        "id": "ZqPNaXFQhqBz",
        "outputId": "74368eac-4065-4d31-e874-18cb0c1b0708"
      },
      "execution_count": null,
      "outputs": [
        {
          "output_type": "execute_result",
          "data": {
            "text/plain": [
              "178.10399457377835"
            ]
          },
          "metadata": {},
          "execution_count": 97
        }
      ]
    },
    {
      "cell_type": "code",
      "source": [
        "st.mean(y)"
      ],
      "metadata": {
        "colab": {
          "base_uri": "https://localhost:8080/"
        },
        "id": "ps_bNxXUhrM7",
        "outputId": "1ca6c481-4a9e-4ce6-9d1a-ddc14f245a61"
      },
      "execution_count": null,
      "outputs": [
        {
          "output_type": "execute_result",
          "data": {
            "text/plain": [
              "-2.3"
            ]
          },
          "metadata": {},
          "execution_count": 104
        }
      ]
    },
    {
      "cell_type": "code",
      "source": [
        "st.variance(y)"
      ],
      "metadata": {
        "colab": {
          "base_uri": "https://localhost:8080/"
        },
        "id": "BnphXnmdhy9P",
        "outputId": "f946de73-8600-4c56-a7a6-a4aefc4e6bb9"
      },
      "execution_count": null,
      "outputs": [
        {
          "output_type": "execute_result",
          "data": {
            "text/plain": [
              "263.56666666666666"
            ]
          },
          "metadata": {},
          "execution_count": 103
        }
      ]
    },
    {
      "cell_type": "code",
      "source": [
        "st.stdev(y)"
      ],
      "metadata": {
        "colab": {
          "base_uri": "https://localhost:8080/"
        },
        "id": "REckm0juh2yg",
        "outputId": "d68d900b-ecb1-4334-b43b-1eeb65969dc6"
      },
      "execution_count": null,
      "outputs": [
        {
          "output_type": "execute_result",
          "data": {
            "text/plain": [
              "16.234736421225527"
            ]
          },
          "metadata": {},
          "execution_count": 101
        }
      ]
    },
    {
      "cell_type": "code",
      "source": [
        "import matplotlib.pyplot as plt"
      ],
      "metadata": {
        "id": "-6-hSjNykV5E"
      },
      "execution_count": null,
      "outputs": []
    },
    {
      "cell_type": "code",
      "source": [
        "x_simple = np.array([2, - 6, 27, - 8, - 9, - 21, 9, 5, 562, mt.pi])\n",
        "y_simple = np.array([8, 9, - 31, 18, - 5, - 18, 9, - 22, 0, 9])\n",
        "my_rho = np.corrcoef(x_simple, y_simple)\n",
        "\n",
        "print(my_rho)"
      ],
      "metadata": {
        "colab": {
          "base_uri": "https://localhost:8080/"
        },
        "id": "RzG2qIeQnA0j",
        "outputId": "e16291a6-e410-4f81-9e98-9f5fd85f08df"
      },
      "execution_count": null,
      "outputs": [
        {
          "output_type": "stream",
          "name": "stdout",
          "text": [
            "[[1.         0.02692977]\n",
            " [0.02692977 1.        ]]\n"
          ]
        }
      ]
    },
    {
      "cell_type": "code",
      "source": [
        "int_list = [2, - 6, 27, - 8, - 9, - 21, 9, 5, 562, mt.pi]\n",
        "int_list.reverse()\n",
        "print(int_list)"
      ],
      "metadata": {
        "colab": {
          "base_uri": "https://localhost:8080/"
        },
        "id": "5lcp3wSkoUC7",
        "outputId": "1efc2ee9-04f5-4558-867d-5874d9f02c3f"
      },
      "execution_count": null,
      "outputs": [
        {
          "output_type": "stream",
          "name": "stdout",
          "text": [
            "[3.141592653589793, 562, 5, 9, -21, -9, -8, 27, -6, 2]\n"
          ]
        }
      ]
    },
    {
      "cell_type": "code",
      "source": [
        "int_list = [8, 9, - 31, 18, - 5, - 18, 9, - 22, 0, 9]\n",
        "int_list.reverse()\n",
        "print(int_list)"
      ],
      "metadata": {
        "colab": {
          "base_uri": "https://localhost:8080/"
        },
        "id": "k0qq-Gmyo8VR",
        "outputId": "f1618973-bbd7-4fdd-d7c5-7600be1cf247"
      },
      "execution_count": null,
      "outputs": [
        {
          "output_type": "stream",
          "name": "stdout",
          "text": [
            "[9, 0, -22, 9, -18, -5, 18, -31, 9, 8]\n"
          ]
        }
      ]
    },
    {
      "cell_type": "code",
      "source": [
        "import pandas as pd\n",
        "\n",
        "df = pd.DataFrame()\n",
        "\n",
        "# creamos las columnas\n",
        "df['Sexo'] = None\n",
        "df['Peso'] = None\n",
        "df['Edad'] = None\n",
        "df['Nivel.Educativo'] = None\n",
        "\n",
        "# añadimos filas por su nombre de fila\n",
        "df.loc[1] = ['H', 76, 25, 'Lic']\n",
        "df.loc[2] = ['M', 67, 23, 'Bach']\n",
        "df.loc[3] = ['H', 55, 19, 'Bach']\n",
        "df.loc[4] = ['M', 57, 18, 'Bach']\n",
        "df.loc[5] = ['H', 87, 57, 'Dr']\n",
        "df.loc[6] = ['M', 48, 13, 'Msc']\n",
        "\n",
        "print(df)"
      ],
      "metadata": {
        "colab": {
          "base_uri": "https://localhost:8080/"
        },
        "id": "ZGwFXQT-pbJs",
        "outputId": "22c142e7-253c-4a81-ac0d-c79fad00a057"
      },
      "execution_count": null,
      "outputs": [
        {
          "output_type": "stream",
          "name": "stdout",
          "text": [
            "  Sexo Peso Edad Nivel.Educativo\n",
            "1    H   76   25             Lic\n",
            "2    M   67   23            Bach\n",
            "3    H   55   19            Bach\n",
            "4    M   57   18            Bach\n",
            "5    H   87   57              Dr\n",
            "6    M   48   13             Msc\n"
          ]
        }
      ]
    },
    {
      "cell_type": "code",
      "source": [
        "lista_cubo = 0\n",
        "n = 100\n",
        "\n",
        "for valor in range(n+1):\n",
        "    suma = valor ** 3\n",
        "    lista_cubo = lista_cubo + suma\n",
        "print(lista_cubo)\n",
        "    "
      ],
      "metadata": {
        "id": "zeJcEBv7wL8y",
        "colab": {
          "base_uri": "https://localhost:8080/"
        },
        "outputId": "60eae907-32fc-4bd5-dfeb-ece55a59fc00"
      },
      "execution_count": 4,
      "outputs": [
        {
          "output_type": "stream",
          "name": "stdout",
          "text": [
            "25502500\n"
          ]
        }
      ]
    },
    {
      "cell_type": "code",
      "source": [
        "1"
      ],
      "metadata": {
        "id": "__smDwAcai0j"
      },
      "execution_count": null,
      "outputs": []
    }
  ]
}