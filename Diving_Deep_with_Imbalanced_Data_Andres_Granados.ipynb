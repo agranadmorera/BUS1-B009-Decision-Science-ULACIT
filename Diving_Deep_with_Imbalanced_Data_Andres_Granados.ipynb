{
  "nbformat": 4,
  "nbformat_minor": 0,
  "metadata": {
    "colab": {
      "name": "Diving Deep with Imbalanced Data - Andres Granados.ipynb",
      "provenance": []
    },
    "kernelspec": {
      "name": "python3",
      "display_name": "Python 3"
    },
    "language_info": {
      "name": "python"
    }
  },
  "cells": [
    {
      "cell_type": "code",
      "execution_count": 4,
      "metadata": {
        "colab": {
          "base_uri": "https://localhost:8080/"
        },
        "id": "repqY_FTRuPP",
        "outputId": "a99ed156-fb0b-4e50-c287-22f643013dd0"
      },
      "outputs": [
        {
          "output_type": "stream",
          "name": "stdout",
          "text": [
            "                      0      1        2      3    4   5  6      7          8  \\\n",
            "0  no-recurrence-events  30-39  premeno  30-34  0-2  no  3   left   left_low   \n",
            "1  no-recurrence-events  40-49  premeno  20-24  0-2  no  2  right   right_up   \n",
            "2  no-recurrence-events  40-49  premeno  20-24  0-2  no  2   left   left_low   \n",
            "3  no-recurrence-events  60-69     ge40  15-19  0-2  no  2  right    left_up   \n",
            "4  no-recurrence-events  40-49  premeno    0-4  0-2  no  2  right  right_low   \n",
            "5  no-recurrence-events  60-69     ge40  15-19  0-2  no  2   left   left_low   \n",
            "6  no-recurrence-events  50-59  premeno  25-29  0-2  no  2   left   left_low   \n",
            "7  no-recurrence-events  60-69     ge40  20-24  0-2  no  1   left   left_low   \n",
            "8  no-recurrence-events  40-49  premeno  50-54  0-2  no  2   left   left_low   \n",
            "9  no-recurrence-events  40-49  premeno  20-24  0-2  no  2  right    left_up   \n",
            "\n",
            "    9  \n",
            "0  no  \n",
            "1  no  \n",
            "2  no  \n",
            "3  no  \n",
            "4  no  \n",
            "5  no  \n",
            "6  no  \n",
            "7  no  \n",
            "8  no  \n",
            "9  no  \n"
          ]
        }
      ],
      "source": [
        "import numpy as np\n",
        "import pandas as pd\n",
        "\n",
        "# Load the dataset into a pandas dataframe\n",
        "data = pd.read_csv(\"breast-cancer.data\",header=None)\n",
        "\n",
        "# See the data\n",
        "print(data.head(10))"
      ]
    },
    {
      "cell_type": "code",
      "source": [
        "import matplotlib.pyplot as plt\n",
        "\n",
        "classes = data[9].values\n",
        "unique, counts = np.unique(classes, return_counts=True)\n",
        "\n",
        "plt.bar(unique,counts)\n",
        "plt.title('Class Frequency')\n",
        "plt.xlabel('Class')\n",
        "plt.ylabel('Frequency')\n",
        "plt.show()"
      ],
      "metadata": {
        "colab": {
          "base_uri": "https://localhost:8080/",
          "height": 295
        },
        "id": "HsA4CPzWSV31",
        "outputId": "72e47531-4e6d-47f4-d93c-fff0d0cc4109"
      },
      "execution_count": 5,
      "outputs": [
        {
          "output_type": "display_data",
          "data": {
            "text/plain": [
              "<Figure size 432x288 with 1 Axes>"
            ],
            "image/png": "[encoded data removed]"
          },
          "metadata": {
            "needs_background": "light"
          }
        }
      ]
    },
    {
      "cell_type": "code",
      "source": [
        ""
      ],
      "metadata": {
        "id": "tL5kjbD7SXVr"
      },
      "execution_count": null,
      "outputs": []
    }
  ]
}